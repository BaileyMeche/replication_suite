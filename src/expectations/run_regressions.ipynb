{
 "cells": [
  {
   "cell_type": "code",
   "execution_count": 4,
   "id": "458eaf4f",
   "metadata": {},
   "outputs": [],
   "source": [
    "import numpy as np\n",
    "import pandas as pd\n",
    "import os\n",
    "from matplotlib import pyplot as plt\n",
    "from settings import config\n",
    "from pathlib import Path\n",
    "from pandas_datareader.famafrench import get_available_datasets\n",
    "import pandas_datareader.data as web\n",
    "\n",
    "# Load environment variables\n",
    "DATA_DIR = Path(config(\"DATA_DIR\"))\n",
    "DATA_MANUAL = Path(config(\"LOCAL_MANUAL_DATA_DIR\"))\n",
    "OUTPUT_DIR = Path(config(\"OUTPUT_DIR\"))\n",
    "WRDS_USERNAME = config(\"WRDS_USERNAME\")\n",
    "START_DATE = config(\"START_DATE\")\n",
    "END_DATE = config(\"END_DATE\")"
   ]
  },
  {
   "cell_type": "code",
   "execution_count": 5,
   "id": "4c91ffd0",
   "metadata": {},
   "outputs": [
    {
     "name": "stdout",
     "output_type": "stream",
     "text": [
      "Connected to scheduler at: tcp://13.220.85.47:8786\n"
     ]
    },
    {
     "name": "stderr",
     "output_type": "stream",
     "text": [
      "c:\\Users\\baile\\miniconda3\\envs\\macs\\lib\\site-packages\\distributed\\client.py:1579: VersionMismatchWarning: Mismatched versions found\n",
      "\n",
      "+-------------+-----------------+-----------------+-----------------+\n",
      "| Package     | Client          | Scheduler       | Workers         |\n",
      "+-------------+-----------------+-----------------+-----------------+\n",
      "| cloudpickle | 3.0.0           | 3.1.1           | 3.1.1           |\n",
      "| lz4         | 4.3.2           | 4.3.3           | 4.3.3           |\n",
      "| msgpack     | 1.0.3           | 1.1.0           | 1.1.0           |\n",
      "| python      | 3.10.16.final.0 | 3.10.12.final.0 | 3.10.12.final.0 |\n",
      "| toolz       | 1.0.0           | 0.12.0          | 0.12.0          |\n",
      "| tornado     | 6.5             | 6.4.2           | 6.4.2           |\n",
      "+-------------+-----------------+-----------------+-----------------+\n",
      "  warnings.warn(version_module.VersionMismatchWarning(msg[0][\"warning\"]))\n"
     ]
    }
   ],
   "source": [
    "from dask.distributed import Client\n",
    "import dask.dataframe as dd\n",
    "import sys \n",
    "import math\n",
    "from numba import njit\n",
    "\n",
    "scheduler = config(\"DASK_SCHEDULER_ADDRESS\", default=None)\n",
    "\n",
    "if scheduler:\n",
    "    client = Client(scheduler)\n",
    "else:\n",
    "    # fall‐back to launching a local cluster\n",
    "    client = Client()\n",
    "print(\"Connected to scheduler at:\", client.scheduler.address)"
   ]
  },
  {
   "cell_type": "code",
   "execution_count": 8,
   "id": "3765f62c",
   "metadata": {},
   "outputs": [
    {
     "name": "stdout",
     "output_type": "stream",
     "text": [
      "Collecting wrds\n",
      "  Downloading wrds-3.3.0-py3-none-any.whl.metadata (5.7 kB)\n",
      "Requirement already satisfied: packaging<=24.2 in c:\\users\\baile\\miniconda3\\envs\\macs\\lib\\site-packages (from wrds) (24.2)\n",
      "Requirement already satisfied: pandas<2.3,>=2.2 in c:\\users\\baile\\miniconda3\\envs\\macs\\lib\\site-packages (from wrds) (2.2.3)\n",
      "Collecting psycopg2-binary<2.10,>=2.9 (from wrds)\n",
      "  Using cached psycopg2_binary-2.9.10-cp310-cp310-win_amd64.whl.metadata (5.0 kB)\n",
      "Requirement already satisfied: sqlalchemy<2.1,>=2 in c:\\users\\baile\\miniconda3\\envs\\macs\\lib\\site-packages (from wrds) (2.0.39)\n",
      "Requirement already satisfied: numpy>=1.22.4 in c:\\users\\baile\\miniconda3\\envs\\macs\\lib\\site-packages (from pandas<2.3,>=2.2->wrds) (2.2.5)\n",
      "Requirement already satisfied: python-dateutil>=2.8.2 in c:\\users\\baile\\miniconda3\\envs\\macs\\lib\\site-packages (from pandas<2.3,>=2.2->wrds) (2.9.0.post0)\n",
      "Requirement already satisfied: pytz>=2020.1 in c:\\users\\baile\\miniconda3\\envs\\macs\\lib\\site-packages (from pandas<2.3,>=2.2->wrds) (2024.1)\n",
      "Requirement already satisfied: tzdata>=2022.7 in c:\\users\\baile\\miniconda3\\envs\\macs\\lib\\site-packages (from pandas<2.3,>=2.2->wrds) (2025.2)\n",
      "Requirement already satisfied: greenlet!=0.4.17 in c:\\users\\baile\\miniconda3\\envs\\macs\\lib\\site-packages (from sqlalchemy<2.1,>=2->wrds) (3.1.1)\n",
      "Requirement already satisfied: typing-extensions>=4.6.0 in c:\\users\\baile\\miniconda3\\envs\\macs\\lib\\site-packages (from sqlalchemy<2.1,>=2->wrds) (4.12.2)\n",
      "Requirement already satisfied: six>=1.5 in c:\\users\\baile\\miniconda3\\envs\\macs\\lib\\site-packages (from python-dateutil>=2.8.2->pandas<2.3,>=2.2->wrds) (1.17.0)\n",
      "Downloading wrds-3.3.0-py3-none-any.whl (13 kB)\n",
      "Downloading psycopg2_binary-2.9.10-cp310-cp310-win_amd64.whl (1.2 MB)\n",
      "   ---------------------------------------- 0.0/1.2 MB ? eta -:--:--\n",
      "   ---------------------------------------- 1.2/1.2 MB 8.3 MB/s eta 0:00:00\n",
      "Installing collected packages: psycopg2-binary, wrds\n",
      "\n",
      "   ---------------------------------------- 2/2 [wrds]\n",
      "\n",
      "Successfully installed psycopg2-binary-2.9.10 wrds-3.3.0\n"
     ]
    }
   ],
   "source": [
    "!pip install wrds "
   ]
  },
  {
   "cell_type": "code",
   "execution_count": 12,
   "id": "6e98a677",
   "metadata": {},
   "outputs": [
    {
     "name": "stdout",
     "output_type": "stream",
     "text": [
      "[########################################] | 100% Completed | 10.83 s\n",
      "[########################################] | 100% Completed | 3.59 ss\n",
      "Regression tasks complete. Summary tables saved.\n"
     ]
    }
   ],
   "source": [
    "import os\n",
    "from pathlib import Path\n",
    "from decouple import config\n",
    "import pandas as pd\n",
    "from dask import delayed, compute\n",
    "from dask.diagnostics import ProgressBar\n",
    "import regressions\n",
    "\n",
    "summary_tex_dir = Path('../reports/tables')\n",
    "summary_tex_dir.mkdir(parents=True, exist_ok=True)\n",
    "\n",
    "# Common regressions parameters\n",
    "groups = {\n",
    "    '6-Portfolios': '6_Portfolios_2x3',\n",
    "    '25-Portfolios': '25_Portfolios_5x5',\n",
    "    '100-Portfolios': '100_Portfolios_10x10'\n",
    "}\n",
    "WEIGHTING = 'BE_FYt-1_to_ME_June_t'\n",
    "H = 1\n",
    "# Use None so we keep full sample even if data start later than 1980\n",
    "# Use far‐future date within pandas bounds (max 2262-04-11)\n",
    "END_DATE = '2262-04-11'\n",
    "START_TRAIN = '1930-01-01'\n",
    "END_TRAIN = '1980-01-01'\n",
    "END_FORECAST = '2011-01-01'\n",
    "\n",
    "@delayed\n",
    "def process_monthly(label, dataset_name):\n",
    "    in_sample = regressions.run_in_sample_pls(\n",
    "        dataset_name=dataset_name,\n",
    "        weighting=WEIGHTING,\n",
    "        h=H,\n",
    "        end_date=END_DATE  # Keep full sample\n",
    "    )\n",
    "    recursive = regressions.run_recursive_forecast(\n",
    "        dataset_name=dataset_name,\n",
    "        weighting=WEIGHTING,\n",
    "        h=H,\n",
    "        start_train_date=START_TRAIN,\n",
    "        end_train_date=END_TRAIN,\n",
    "        end_forecast_date=END_FORECAST\n",
    "    )\n",
    "    return label, (in_sample['third_model'].rsquared if in_sample['third_model'] is not None else float('nan')), recursive['R2_oos']\n",
    "\n",
    "@delayed\n",
    "def process_annual(label, dataset_name):\n",
    "    in_sample = regressions.run_in_sample_pls_annual(\n",
    "        dataset_name=dataset_name,\n",
    "        weighting=WEIGHTING,\n",
    "        h=H,\n",
    "        end_date=END_DATE  # Keep full sample\n",
    "    )\n",
    "    forecast_series, actual_series, R2_oos = regressions.run_recursive_forecast_annual(\n",
    "        dataset_name=dataset_name,\n",
    "        weighting=WEIGHTING,\n",
    "        h=H,\n",
    "        start_train_year=1930,\n",
    "        end_train_year=1979,\n",
    "        end_forecast_year=2010,\n",
    "        n_components=1\n",
    "    )\n",
    "    return label, (in_sample['third_model'].rsquared if in_sample['third_model'] is not None else float('nan')), R2_oos\n",
    "\n",
    "\n",
    "monthly_tasks = [process_monthly(label, name) for label, name in groups.items()]\n",
    "annual_tasks  = [process_annual(label, name) for label, name in groups.items()]\n",
    "\n",
    "with ProgressBar():\n",
    "    monthly_results = compute(*monthly_tasks, scheduler='threads')\n",
    "    annual_results  = compute(*annual_tasks,  scheduler='threads')\n",
    "\n",
    "monthly_dict = {lbl: {'R2 In-Sample': r2_in, 'R2 Out-of-Sample': r2_oos}\n",
    "                for lbl, r2_in, r2_oos in monthly_results}\n",
    "summary_df_monthly = pd.DataFrame(monthly_dict).T\n",
    "summary_df_monthly.to_latex(summary_tex_dir / 'summary_table_monthly.tex',\n",
    "                            index=True, float_format='%.6f')\n",
    "\n",
    "annual_dict =  {lbl: {'R2 In-Sample': r2_in, 'R2 Out-of-Sample': r2_oos}\n",
    "                for lbl, r2_in, r2_oos in annual_results}\n",
    "summary_df_annual = pd.DataFrame(annual_dict).T\n",
    "summary_df_annual.to_latex(summary_tex_dir / 'summary_table_annual.tex',\n",
    "                            index=True, float_format='%.6f')\n",
    "\n",
    "print('Regression tasks complete. Summary tables saved.')\n"
   ]
  }
 ],
 "metadata": {
  "kernelspec": {
   "display_name": "macs",
   "language": "python",
   "name": "python3"
  },
  "language_info": {
   "codemirror_mode": {
    "name": "ipython",
    "version": 3
   },
   "file_extension": ".py",
   "mimetype": "text/x-python",
   "name": "python",
   "nbconvert_exporter": "python",
   "pygments_lexer": "ipython3",
   "version": "3.10.16"
  }
 },
 "nbformat": 4,
 "nbformat_minor": 5
}
